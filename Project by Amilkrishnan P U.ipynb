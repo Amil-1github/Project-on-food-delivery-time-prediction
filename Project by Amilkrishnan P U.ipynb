{
 "cells": [
  {
   "cell_type": "markdown",
   "metadata": {},
   "source": [
    "# FOOD DELIVERY TIME PREDICTION                                \n",
    "\n",
    "\n",
    "   #### Amilkrishnan P U\n",
    "   #### Batch - 8161"
   ]
  },
  {
   "cell_type": "markdown",
   "metadata": {},
   "source": [
    "### Abstract:\n",
    "Food delivery is a courier service in which a restaurant, store, or independent food-delivery company delivers food to a customer. An order is typically made either through a restaurant or grocer's website or mobile app, or through a food ordering company. The delivered items can include entrees, sides, drinks, desserts, or grocery items and are typically delivered in boxes or bags. The delivery person will normally drive a car, but in bigger cities where homes and restaurants are closer together, they may use bikes or motorized scooters.\n",
    "\n",
    "### Problem Statement:\n",
    "- The goal of this project is to predict the food delivery time in real-time using various Machine Learning techniques\n",
    "- For the benefit of the customers as well as the service providers, a well analyzed time prediction model will be served\n",
    "- The hectic for providing so many features to get the real-time will be reduced by estimating the most mattering features"
   ]
  },
  {
   "cell_type": "markdown",
   "metadata": {},
   "source": [
    "### Steps that we will follow to achieve our objective:\n",
    "- Gathering Data: The dataset for our model is available in kaggle. The ref link is listed along with the step.\n",
    "- Exploratory data analysis (EDA): We will follow various steps to get the insight of our data- How data looks like? What are the columns and there dtypes? Size of the dataset? Is the data available in correct format and so on \n",
    "- Data wrangling: This step will be followed side by side with EDA. We will handle missing and duplicated values by imputing or droping the relevant values to it. Also we will remove the unwanted columns which have no relation with our target output\n",
    "- Data visualization: We will visualize our selected columns by using EDA like Univariant and Bivariant analysis. we will determine the depth of correlation between columns and also find the skewness of data and outliers \n",
    "- Preprocessing: Here, we will make data ready for our Machine Learning model by Encoding the categorical columns and by scaling the data\n",
    "- Splitting the data: Next, will split the data into training and testing sets. The training set is used to train the model and the testing set is used to evaluate the performance of the final model.\n",
    "- Selecting and training a model: Then we need to choose a regression algorithm and train it on the training data. We wiill also tune the hyperparameters of the selected model using cross-validation on the validation set.\n",
    "- Evaluating the model: After training the model, we will evaluate its performance on the testing set. we will use metrics such as mean squared error (MSE) and R-squared to evaluate the model's accuracy."
   ]
  },
  {
   "cell_type": "markdown",
   "metadata": {},
   "source": [
    "## Importing required libraries and the dataset for the project"
   ]
  },
  {
   "cell_type": "code",
   "execution_count": 1,
   "metadata": {},
   "outputs": [],
   "source": [
    "import pandas as pd\n",
    "import numpy as np\n",
    "import matplotlib.pyplot as plt\n",
    "%matplotlib inline\n",
    "import seaborn as sns\n",
    "import warnings\n",
    "warnings.filterwarnings(\"ignore\")"
   ]
  },
  {
   "cell_type": "markdown",
   "metadata": {},
   "source": [
    "Food delivery Time dataset ref link:- \"https://www.kaggle.com/datasets/gauravmalik26/food-delivery-dataset?resource=download&select=train.csv\""
   ]
  },
  {
   "cell_type": "code",
   "execution_count": 3,
   "metadata": {},
   "outputs": [],
   "source": [
    "df = pd.read_csv(r\"C:\\Users\\User\\Desktop\\food_delivery_dataset.csv\")"
   ]
  },
  {
   "cell_type": "code",
   "execution_count": 4,
   "metadata": {},
   "outputs": [
    {
     "data": {
      "text/html": [
       "<div>\n",
       "<style scoped>\n",
       "    .dataframe tbody tr th:only-of-type {\n",
       "        vertical-align: middle;\n",
       "    }\n",
       "\n",
       "    .dataframe tbody tr th {\n",
       "        vertical-align: top;\n",
       "    }\n",
       "\n",
       "    .dataframe thead th {\n",
       "        text-align: right;\n",
       "    }\n",
       "</style>\n",
       "<table border=\"1\" class=\"dataframe\">\n",
       "  <thead>\n",
       "    <tr style=\"text-align: right;\">\n",
       "      <th></th>\n",
       "      <th>ID</th>\n",
       "      <th>Delivery_person_ID</th>\n",
       "      <th>Delivery_person_Age</th>\n",
       "      <th>Delivery_person_Ratings</th>\n",
       "      <th>Restaurant_latitude</th>\n",
       "      <th>Restaurant_longitude</th>\n",
       "      <th>Delivery_location_latitude</th>\n",
       "      <th>Delivery_location_longitude</th>\n",
       "      <th>Order_Date</th>\n",
       "      <th>Time_Orderd</th>\n",
       "      <th>Time_Order_picked</th>\n",
       "      <th>Weatherconditions</th>\n",
       "      <th>Road_traffic_density</th>\n",
       "      <th>Vehicle_condition</th>\n",
       "      <th>Type_of_order</th>\n",
       "      <th>Type_of_vehicle</th>\n",
       "      <th>multiple_deliveries</th>\n",
       "      <th>Festival</th>\n",
       "      <th>City</th>\n",
       "      <th>Time_taken(min)</th>\n",
       "    </tr>\n",
       "  </thead>\n",
       "  <tbody>\n",
       "    <tr>\n",
       "      <th>0</th>\n",
       "      <td>0x4607</td>\n",
       "      <td>INDORES13DEL02</td>\n",
       "      <td>37</td>\n",
       "      <td>4.9</td>\n",
       "      <td>22.745049</td>\n",
       "      <td>75.892471</td>\n",
       "      <td>22.765049</td>\n",
       "      <td>75.912471</td>\n",
       "      <td>19-03-2022</td>\n",
       "      <td>11:30:00</td>\n",
       "      <td>11:45:00</td>\n",
       "      <td>conditions Sunny</td>\n",
       "      <td>High</td>\n",
       "      <td>2</td>\n",
       "      <td>Snack</td>\n",
       "      <td>motorcycle</td>\n",
       "      <td>0</td>\n",
       "      <td>No</td>\n",
       "      <td>Urban</td>\n",
       "      <td>(min) 24</td>\n",
       "    </tr>\n",
       "    <tr>\n",
       "      <th>1</th>\n",
       "      <td>0xb379</td>\n",
       "      <td>BANGRES18DEL02</td>\n",
       "      <td>34</td>\n",
       "      <td>4.5</td>\n",
       "      <td>12.913041</td>\n",
       "      <td>77.683237</td>\n",
       "      <td>13.043041</td>\n",
       "      <td>77.813237</td>\n",
       "      <td>25-03-2022</td>\n",
       "      <td>19:45:00</td>\n",
       "      <td>19:50:00</td>\n",
       "      <td>conditions Stormy</td>\n",
       "      <td>Jam</td>\n",
       "      <td>2</td>\n",
       "      <td>Snack</td>\n",
       "      <td>scooter</td>\n",
       "      <td>1</td>\n",
       "      <td>No</td>\n",
       "      <td>Metropolitian</td>\n",
       "      <td>(min) 33</td>\n",
       "    </tr>\n",
       "    <tr>\n",
       "      <th>2</th>\n",
       "      <td>0x5d6d</td>\n",
       "      <td>BANGRES19DEL01</td>\n",
       "      <td>23</td>\n",
       "      <td>4.4</td>\n",
       "      <td>12.914264</td>\n",
       "      <td>77.678400</td>\n",
       "      <td>12.924264</td>\n",
       "      <td>77.688400</td>\n",
       "      <td>19-03-2022</td>\n",
       "      <td>08:30:00</td>\n",
       "      <td>08:45:00</td>\n",
       "      <td>conditions Sandstorms</td>\n",
       "      <td>Low</td>\n",
       "      <td>0</td>\n",
       "      <td>Drinks</td>\n",
       "      <td>motorcycle</td>\n",
       "      <td>1</td>\n",
       "      <td>No</td>\n",
       "      <td>Urban</td>\n",
       "      <td>(min) 26</td>\n",
       "    </tr>\n",
       "    <tr>\n",
       "      <th>3</th>\n",
       "      <td>0x7a6a</td>\n",
       "      <td>COIMBRES13DEL02</td>\n",
       "      <td>38</td>\n",
       "      <td>4.7</td>\n",
       "      <td>11.003669</td>\n",
       "      <td>76.976494</td>\n",
       "      <td>11.053669</td>\n",
       "      <td>77.026494</td>\n",
       "      <td>05-04-2022</td>\n",
       "      <td>18:00:00</td>\n",
       "      <td>18:10:00</td>\n",
       "      <td>conditions Sunny</td>\n",
       "      <td>Medium</td>\n",
       "      <td>0</td>\n",
       "      <td>Buffet</td>\n",
       "      <td>motorcycle</td>\n",
       "      <td>1</td>\n",
       "      <td>No</td>\n",
       "      <td>Metropolitian</td>\n",
       "      <td>(min) 21</td>\n",
       "    </tr>\n",
       "    <tr>\n",
       "      <th>4</th>\n",
       "      <td>0x70a2</td>\n",
       "      <td>CHENRES12DEL01</td>\n",
       "      <td>32</td>\n",
       "      <td>4.6</td>\n",
       "      <td>12.972793</td>\n",
       "      <td>80.249982</td>\n",
       "      <td>13.012793</td>\n",
       "      <td>80.289982</td>\n",
       "      <td>26-03-2022</td>\n",
       "      <td>13:30:00</td>\n",
       "      <td>13:45:00</td>\n",
       "      <td>conditions Cloudy</td>\n",
       "      <td>High</td>\n",
       "      <td>1</td>\n",
       "      <td>Snack</td>\n",
       "      <td>scooter</td>\n",
       "      <td>1</td>\n",
       "      <td>No</td>\n",
       "      <td>Metropolitian</td>\n",
       "      <td>(min) 30</td>\n",
       "    </tr>\n",
       "  </tbody>\n",
       "</table>\n",
       "</div>"
      ],
      "text/plain": [
       "        ID Delivery_person_ID Delivery_person_Age Delivery_person_Ratings  \\\n",
       "0  0x4607     INDORES13DEL02                   37                     4.9   \n",
       "1  0xb379     BANGRES18DEL02                   34                     4.5   \n",
       "2  0x5d6d     BANGRES19DEL01                   23                     4.4   \n",
       "3  0x7a6a    COIMBRES13DEL02                   38                     4.7   \n",
       "4  0x70a2     CHENRES12DEL01                   32                     4.6   \n",
       "\n",
       "   Restaurant_latitude  Restaurant_longitude  Delivery_location_latitude  \\\n",
       "0            22.745049             75.892471                   22.765049   \n",
       "1            12.913041             77.683237                   13.043041   \n",
       "2            12.914264             77.678400                   12.924264   \n",
       "3            11.003669             76.976494                   11.053669   \n",
       "4            12.972793             80.249982                   13.012793   \n",
       "\n",
       "   Delivery_location_longitude  Order_Date Time_Orderd Time_Order_picked  \\\n",
       "0                    75.912471  19-03-2022    11:30:00          11:45:00   \n",
       "1                    77.813237  25-03-2022    19:45:00          19:50:00   \n",
       "2                    77.688400  19-03-2022    08:30:00          08:45:00   \n",
       "3                    77.026494  05-04-2022    18:00:00          18:10:00   \n",
       "4                    80.289982  26-03-2022    13:30:00          13:45:00   \n",
       "\n",
       "       Weatherconditions Road_traffic_density  Vehicle_condition  \\\n",
       "0       conditions Sunny                High                   2   \n",
       "1      conditions Stormy                 Jam                   2   \n",
       "2  conditions Sandstorms                 Low                   0   \n",
       "3       conditions Sunny              Medium                   0   \n",
       "4      conditions Cloudy                High                   1   \n",
       "\n",
       "  Type_of_order Type_of_vehicle multiple_deliveries Festival            City  \\\n",
       "0        Snack      motorcycle                    0      No           Urban    \n",
       "1        Snack         scooter                    1      No   Metropolitian    \n",
       "2       Drinks      motorcycle                    1      No           Urban    \n",
       "3       Buffet      motorcycle                    1      No   Metropolitian    \n",
       "4        Snack         scooter                    1      No   Metropolitian    \n",
       "\n",
       "  Time_taken(min)  \n",
       "0        (min) 24  \n",
       "1        (min) 33  \n",
       "2        (min) 26  \n",
       "3        (min) 21  \n",
       "4        (min) 30  "
      ]
     },
     "execution_count": 4,
     "metadata": {},
     "output_type": "execute_result"
    }
   ],
   "source": [
    "df.head(5)"
   ]
  },
  {
   "cell_type": "code",
   "execution_count": 5,
   "metadata": {},
   "outputs": [
    {
     "data": {
      "text/plain": [
       "(45593, 20)"
      ]
     },
     "execution_count": 5,
     "metadata": {},
     "output_type": "execute_result"
    }
   ],
   "source": [
    "df.shape"
   ]
  },
  {
   "cell_type": "code",
   "execution_count": 6,
   "metadata": {},
   "outputs": [
    {
     "name": "stdout",
     "output_type": "stream",
     "text": [
      "<class 'pandas.core.frame.DataFrame'>\n",
      "RangeIndex: 45593 entries, 0 to 45592\n",
      "Data columns (total 20 columns):\n",
      " #   Column                       Non-Null Count  Dtype  \n",
      "---  ------                       --------------  -----  \n",
      " 0   ID                           45593 non-null  object \n",
      " 1   Delivery_person_ID           45593 non-null  object \n",
      " 2   Delivery_person_Age          45593 non-null  object \n",
      " 3   Delivery_person_Ratings      45593 non-null  object \n",
      " 4   Restaurant_latitude          45593 non-null  float64\n",
      " 5   Restaurant_longitude         45593 non-null  float64\n",
      " 6   Delivery_location_latitude   45593 non-null  float64\n",
      " 7   Delivery_location_longitude  45593 non-null  float64\n",
      " 8   Order_Date                   45593 non-null  object \n",
      " 9   Time_Orderd                  45593 non-null  object \n",
      " 10  Time_Order_picked            45593 non-null  object \n",
      " 11  Weatherconditions            45593 non-null  object \n",
      " 12  Road_traffic_density         45593 non-null  object \n",
      " 13  Vehicle_condition            45593 non-null  int64  \n",
      " 14  Type_of_order                45593 non-null  object \n",
      " 15  Type_of_vehicle              45593 non-null  object \n",
      " 16  multiple_deliveries          45593 non-null  object \n",
      " 17  Festival                     45593 non-null  object \n",
      " 18  City                         45593 non-null  object \n",
      " 19  Time_taken(min)              45593 non-null  object \n",
      "dtypes: float64(4), int64(1), object(15)\n",
      "memory usage: 7.0+ MB\n"
     ]
    }
   ],
   "source": [
    "# getting some ideas about the rows and columns and Dtype of dataset\n",
    "df.info()"
   ]
  },
  {
   "cell_type": "code",
   "execution_count": 14,
   "metadata": {},
   "outputs": [
    {
     "data": {
      "text/plain": [
       "ID                                0\n",
       "Delivery_person_ID                0\n",
       "Delivery_person_Age            1854\n",
       "Delivery_person_Ratings        1908\n",
       "Restaurant_latitude               0\n",
       "Restaurant_longitude              0\n",
       "Delivery_location_latitude        0\n",
       "Delivery_location_longitude       0\n",
       "Order_Date                        0\n",
       "Time_Orderd                    1731\n",
       "Time_Order_picked                 0\n",
       "Weatherconditions               616\n",
       "Road_traffic_density            601\n",
       "Vehicle_condition                 0\n",
       "Type_of_order                     0\n",
       "Type_of_vehicle                   0\n",
       "multiple_deliveries             993\n",
       "Festival                        228\n",
       "City                           1200\n",
       "Time_taken(min)                   0\n",
       "dtype: int64"
      ]
     },
     "execution_count": 14,
     "metadata": {},
     "output_type": "execute_result"
    }
   ],
   "source": [
    "# as we don't find the null values but we will nan values in it to check the nan valuves\n",
    "df.isna().sum()\n",
    "# we could see there nan values in some columns"
   ]
  },
  {
   "cell_type": "markdown",
   "metadata": {},
   "source": [
    "## Data wrangling / Data cleaning"
   ]
  },
  {
   "cell_type": "code",
   "execution_count": 15,
   "metadata": {},
   "outputs": [],
   "source": [
    "# deleting all columns which has nothing to do with our Target variable\n",
    "df = df.drop(columns=['ID','Delivery_person_ID','Order_Date','Time_Orderd','Time_Order_picked','Vehicle_condition',\n",
    "                'Type_of_vehicle','Festival','City'], axis=1)"
   ]
  },
  {
   "cell_type": "markdown",
   "metadata": {},
   "source": [
    "- Imputing missing values with median and mode method\n",
    "- Convert the columns with appropriate datatypes\n",
    "- Correcting the format of target variable"
   ]
  },
  {
   "cell_type": "code",
   "execution_count": 16,
   "metadata": {},
   "outputs": [],
   "source": [
    "# 1st Age column: fill NA values with median value and change datatype to int\n",
    "df['Delivery_person_Age']= df['Delivery_person_Age'].fillna(df['Delivery_person_Age'].median())\n",
    "df['Delivery_person_Age']= df['Delivery_person_Age'].astype('int')\n",
    "\n",
    "# 2nd Rating column: fill NA values with median value and change datatype to float\n",
    "df['Delivery_person_Ratings']= df['Delivery_person_Ratings'].fillna(df['Delivery_person_Ratings'].median())\n",
    "df['Delivery_person_Ratings']= df['Delivery_person_Ratings'].astype('float')\n",
    "\n",
    "# 6th weather condition: format the values and fill NA values with most occuring category\n",
    "df['Weatherconditions'] = df['Weatherconditions'].str.split(\" \", expand=True)[1]\n",
    "df['Weatherconditions']= df['Weatherconditions'].fillna(df['Weatherconditions'].value_counts().index[0])\n",
    "\n",
    "# 7th Road_traffic_density: fill NA values with most occuring category\n",
    "df['Road_traffic_density']= df['Road_traffic_density'].fillna(df['Road_traffic_density'].value_counts().index[0])\n",
    "\n",
    "# 9th multiple_deliveries: fill NA values with most occuring value\n",
    "df['multiple_deliveries']= df['multiple_deliveries'].fillna(df['multiple_deliveries'].value_counts().index[0])\n",
    "\n",
    "# 10th Time_taken(min): format the values and change datatype to int\n",
    "df['Time_taken(min)'] = df['Time_taken(min)'].str.split(\" \", expand=True)[1]\n",
    "df['Time_taken(min)']= df['Time_taken(min)'].astype('int')"
   ]
  },
  {
   "cell_type": "code",
   "execution_count": 17,
   "metadata": {},
   "outputs": [
    {
     "data": {
      "text/html": [
       "<div>\n",
       "<style scoped>\n",
       "    .dataframe tbody tr th:only-of-type {\n",
       "        vertical-align: middle;\n",
       "    }\n",
       "\n",
       "    .dataframe tbody tr th {\n",
       "        vertical-align: top;\n",
       "    }\n",
       "\n",
       "    .dataframe thead th {\n",
       "        text-align: right;\n",
       "    }\n",
       "</style>\n",
       "<table border=\"1\" class=\"dataframe\">\n",
       "  <thead>\n",
       "    <tr style=\"text-align: right;\">\n",
       "      <th></th>\n",
       "      <th>count</th>\n",
       "      <th>mean</th>\n",
       "      <th>std</th>\n",
       "      <th>min</th>\n",
       "      <th>25%</th>\n",
       "      <th>50%</th>\n",
       "      <th>75%</th>\n",
       "      <th>max</th>\n",
       "    </tr>\n",
       "  </thead>\n",
       "  <tbody>\n",
       "    <tr>\n",
       "      <th>Delivery_person_Age</th>\n",
       "      <td>45593.0</td>\n",
       "      <td>29.584739</td>\n",
       "      <td>5.696333</td>\n",
       "      <td>15.000000</td>\n",
       "      <td>25.000000</td>\n",
       "      <td>30.000000</td>\n",
       "      <td>34.000000</td>\n",
       "      <td>50.000000</td>\n",
       "    </tr>\n",
       "    <tr>\n",
       "      <th>Delivery_person_Ratings</th>\n",
       "      <td>45593.0</td>\n",
       "      <td>4.636552</td>\n",
       "      <td>0.327906</td>\n",
       "      <td>1.000000</td>\n",
       "      <td>4.600000</td>\n",
       "      <td>4.700000</td>\n",
       "      <td>4.800000</td>\n",
       "      <td>6.000000</td>\n",
       "    </tr>\n",
       "    <tr>\n",
       "      <th>Restaurant_latitude</th>\n",
       "      <td>45593.0</td>\n",
       "      <td>17.017729</td>\n",
       "      <td>8.185109</td>\n",
       "      <td>-30.905562</td>\n",
       "      <td>12.933284</td>\n",
       "      <td>18.546947</td>\n",
       "      <td>22.728163</td>\n",
       "      <td>30.914057</td>\n",
       "    </tr>\n",
       "    <tr>\n",
       "      <th>Restaurant_longitude</th>\n",
       "      <td>45593.0</td>\n",
       "      <td>70.231332</td>\n",
       "      <td>22.883647</td>\n",
       "      <td>-88.366217</td>\n",
       "      <td>73.170000</td>\n",
       "      <td>75.898497</td>\n",
       "      <td>78.044095</td>\n",
       "      <td>88.433452</td>\n",
       "    </tr>\n",
       "    <tr>\n",
       "      <th>Delivery_location_latitude</th>\n",
       "      <td>45593.0</td>\n",
       "      <td>17.465186</td>\n",
       "      <td>7.335122</td>\n",
       "      <td>0.010000</td>\n",
       "      <td>12.988453</td>\n",
       "      <td>18.633934</td>\n",
       "      <td>22.785049</td>\n",
       "      <td>31.054057</td>\n",
       "    </tr>\n",
       "    <tr>\n",
       "      <th>Delivery_location_longitude</th>\n",
       "      <td>45593.0</td>\n",
       "      <td>70.845702</td>\n",
       "      <td>21.118812</td>\n",
       "      <td>0.010000</td>\n",
       "      <td>73.280000</td>\n",
       "      <td>76.002574</td>\n",
       "      <td>78.107044</td>\n",
       "      <td>88.563452</td>\n",
       "    </tr>\n",
       "    <tr>\n",
       "      <th>Time_taken(min)</th>\n",
       "      <td>45593.0</td>\n",
       "      <td>26.294607</td>\n",
       "      <td>9.383806</td>\n",
       "      <td>10.000000</td>\n",
       "      <td>19.000000</td>\n",
       "      <td>26.000000</td>\n",
       "      <td>32.000000</td>\n",
       "      <td>54.000000</td>\n",
       "    </tr>\n",
       "  </tbody>\n",
       "</table>\n",
       "</div>"
      ],
      "text/plain": [
       "                               count       mean        std        min  \\\n",
       "Delivery_person_Age          45593.0  29.584739   5.696333  15.000000   \n",
       "Delivery_person_Ratings      45593.0   4.636552   0.327906   1.000000   \n",
       "Restaurant_latitude          45593.0  17.017729   8.185109 -30.905562   \n",
       "Restaurant_longitude         45593.0  70.231332  22.883647 -88.366217   \n",
       "Delivery_location_latitude   45593.0  17.465186   7.335122   0.010000   \n",
       "Delivery_location_longitude  45593.0  70.845702  21.118812   0.010000   \n",
       "Time_taken(min)              45593.0  26.294607   9.383806  10.000000   \n",
       "\n",
       "                                   25%        50%        75%        max  \n",
       "Delivery_person_Age          25.000000  30.000000  34.000000  50.000000  \n",
       "Delivery_person_Ratings       4.600000   4.700000   4.800000   6.000000  \n",
       "Restaurant_latitude          12.933284  18.546947  22.728163  30.914057  \n",
       "Restaurant_longitude         73.170000  75.898497  78.044095  88.433452  \n",
       "Delivery_location_latitude   12.988453  18.633934  22.785049  31.054057  \n",
       "Delivery_location_longitude  73.280000  76.002574  78.107044  88.563452  \n",
       "Time_taken(min)              19.000000  26.000000  32.000000  54.000000  "
      ]
     },
     "execution_count": 17,
     "metadata": {},
     "output_type": "execute_result"
    }
   ],
   "source": [
    "df.describe().transpose()"
   ]
  },
  {
   "cell_type": "markdown",
   "metadata": {},
   "source": [
    "Distance is the very important feature which is required for our Target\n",
    "- Create a new column named \"Distance(km)\" with the heip of available lat/lon columns\n",
    "- For calculating values for this column, will create a function which will take lat/lon of two points and outputs the distance between them\n",
    "- After creating new column we will add this column to our dataframe and drop the input columns"
   ]
  },
  {
   "cell_type": "code",
   "execution_count": 18,
   "metadata": {},
   "outputs": [],
   "source": [
    "# instead of using lat/lon of origin & destination, we can create a new 'Distance' column \n",
    "# for that we need to find the distance between two location by using 'Haversine Formula'\n",
    "# let's create a function to calculate distance\n",
    "from math import radians,sqrt,cos,sin,asin\n",
    "def Distance(laA,loA,laB,loB):\n",
    "    R = 6371 # earth's radius in KM\n",
    "    D_la = radians(laB - laA)\n",
    "    D_lo = radians(loB - loA)\n",
    "    # using Haversine Formula\n",
    "    a = sin(D_la/2)**2 + cos(laA)*cos(laB)*sin(D_lo/2)**2\n",
    "    c = 2 * asin(sqrt(a))\n",
    "    return round(R*c, 2)"
   ]
  },
  {
   "cell_type": "code",
   "execution_count": 19,
   "metadata": {},
   "outputs": [],
   "source": [
    "# removing negative notation from latitude and longitude doesn't affect the distance between two points\n",
    "# also negative values of latitude and longitude create issues with the mathematical calculation\n",
    "cols=['Restaurant_latitude','Restaurant_longitude','Delivery_location_latitude','Delivery_location_longitude']\n",
    "for col in cols:\n",
    "    df[col]= abs(df[col])"
   ]
  },
  {
   "cell_type": "code",
   "execution_count": 20,
   "metadata": {},
   "outputs": [],
   "source": [
    "# calculate Distance for each data point and add it to the data\n",
    "df['Distance(km)'] = np.nan\n",
    "for i in range(len(df)):\n",
    "    df.loc[i,'Distance(km)'] = Distance(df.loc[i,'Restaurant_latitude'],\n",
    "                                        df.loc[i,'Restaurant_longitude'],\n",
    "                                        df.loc[i,'Delivery_location_latitude'],\n",
    "                                        df.loc[i,'Delivery_location_longitude'])\n",
    "    \n",
    "# after creating Distance variable there is no need for lat/lon variables\n",
    "# we will create new dataframe with remaining varibles except for lat/lon\n",
    "df1 = df.drop(columns=['Restaurant_latitude','Restaurant_longitude',\n",
    "                       'Delivery_location_latitude','Delivery_location_longitude'],axis=1)"
   ]
  },
  {
   "cell_type": "code",
   "execution_count": 21,
   "metadata": {},
   "outputs": [
    {
     "data": {
      "text/plain": [
       "Delivery_person_Age        0\n",
       "Delivery_person_Ratings    0\n",
       "Weatherconditions          0\n",
       "Road_traffic_density       0\n",
       "Type_of_order              0\n",
       "multiple_deliveries        0\n",
       "Time_taken(min)            0\n",
       "Distance(km)               0\n",
       "dtype: int64"
      ]
     },
     "execution_count": 21,
     "metadata": {},
     "output_type": "execute_result"
    }
   ],
   "source": [
    "df1.isnull().sum()"
   ]
  },
  {
   "cell_type": "code",
   "execution_count": 22,
   "metadata": {},
   "outputs": [
    {
     "data": {
      "text/plain": [
       "18"
      ]
     },
     "execution_count": 22,
     "metadata": {},
     "output_type": "execute_result"
    }
   ],
   "source": [
    "df1.duplicated().sum()"
   ]
  },
  {
   "cell_type": "code",
   "execution_count": 23,
   "metadata": {},
   "outputs": [
    {
     "data": {
      "text/html": [
       "<div>\n",
       "<style scoped>\n",
       "    .dataframe tbody tr th:only-of-type {\n",
       "        vertical-align: middle;\n",
       "    }\n",
       "\n",
       "    .dataframe tbody tr th {\n",
       "        vertical-align: top;\n",
       "    }\n",
       "\n",
       "    .dataframe thead th {\n",
       "        text-align: right;\n",
       "    }\n",
       "</style>\n",
       "<table border=\"1\" class=\"dataframe\">\n",
       "  <thead>\n",
       "    <tr style=\"text-align: right;\">\n",
       "      <th></th>\n",
       "      <th>count</th>\n",
       "      <th>mean</th>\n",
       "      <th>std</th>\n",
       "      <th>min</th>\n",
       "      <th>25%</th>\n",
       "      <th>50%</th>\n",
       "      <th>75%</th>\n",
       "      <th>max</th>\n",
       "    </tr>\n",
       "  </thead>\n",
       "  <tbody>\n",
       "    <tr>\n",
       "      <th>Delivery_person_Age</th>\n",
       "      <td>45575.0</td>\n",
       "      <td>29.585299</td>\n",
       "      <td>5.695931</td>\n",
       "      <td>15.00</td>\n",
       "      <td>25.00</td>\n",
       "      <td>30.00</td>\n",
       "      <td>34.00</td>\n",
       "      <td>50.00</td>\n",
       "    </tr>\n",
       "    <tr>\n",
       "      <th>Delivery_person_Ratings</th>\n",
       "      <td>45575.0</td>\n",
       "      <td>4.636538</td>\n",
       "      <td>0.327959</td>\n",
       "      <td>1.00</td>\n",
       "      <td>4.60</td>\n",
       "      <td>4.70</td>\n",
       "      <td>4.80</td>\n",
       "      <td>6.00</td>\n",
       "    </tr>\n",
       "    <tr>\n",
       "      <th>Time_taken(min)</th>\n",
       "      <td>45575.0</td>\n",
       "      <td>26.296237</td>\n",
       "      <td>9.384463</td>\n",
       "      <td>10.00</td>\n",
       "      <td>19.00</td>\n",
       "      <td>26.00</td>\n",
       "      <td>32.00</td>\n",
       "      <td>54.00</td>\n",
       "    </tr>\n",
       "    <tr>\n",
       "      <th>Distance(km)</th>\n",
       "      <td>45575.0</td>\n",
       "      <td>8.733244</td>\n",
       "      <td>5.161992</td>\n",
       "      <td>1.11</td>\n",
       "      <td>4.52</td>\n",
       "      <td>7.99</td>\n",
       "      <td>12.35</td>\n",
       "      <td>21.21</td>\n",
       "    </tr>\n",
       "  </tbody>\n",
       "</table>\n",
       "</div>"
      ],
      "text/plain": [
       "                           count       mean       std    min    25%    50%  \\\n",
       "Delivery_person_Age      45575.0  29.585299  5.695931  15.00  25.00  30.00   \n",
       "Delivery_person_Ratings  45575.0   4.636538  0.327959   1.00   4.60   4.70   \n",
       "Time_taken(min)          45575.0  26.296237  9.384463  10.00  19.00  26.00   \n",
       "Distance(km)             45575.0   8.733244  5.161992   1.11   4.52   7.99   \n",
       "\n",
       "                           75%    max  \n",
       "Delivery_person_Age      34.00  50.00  \n",
       "Delivery_person_Ratings   4.80   6.00  \n",
       "Time_taken(min)          32.00  54.00  \n",
       "Distance(km)             12.35  21.21  "
      ]
     },
     "execution_count": 23,
     "metadata": {},
     "output_type": "execute_result"
    }
   ],
   "source": [
    "df1 = df1.drop_duplicates()\n",
    "df1.describe().transpose()"
   ]
  },
  {
   "cell_type": "markdown",
   "metadata": {},
   "source": [
    "# Data Visualisation"
   ]
  },
  {
   "cell_type": "markdown",
   "metadata": {},
   "source": [
    "let's do some univariant and multivariant analysis of our feature and target variables\n",
    "- Univariant Analysis \n",
    "    - for numerical variable let's plot the Boxplot to get the distribution of data\n",
    "    - for categorical variables let's plot a Countplot to get the distribution of data"
   ]
  },
  {
   "cell_type": "code",
   "execution_count": 24,
   "metadata": {},
   "outputs": [
    {
     "data": {
      "text/plain": [
       "Index(['Delivery_person_Age', 'Delivery_person_Ratings', 'Weatherconditions',\n",
       "       'Road_traffic_density', 'Type_of_order', 'multiple_deliveries',\n",
       "       'Time_taken(min)', 'Distance(km)'],\n",
       "      dtype='object')"
      ]
     },
     "execution_count": 24,
     "metadata": {},
     "output_type": "execute_result"
    }
   ],
   "source": [
    "# done with data cleaning\n",
    "# so let's do some univariant and multivariant analysis of our feature and target variables \n",
    "df1.columns"
   ]
  },
  {
   "cell_type": "code",
   "execution_count": 25,
   "metadata": {},
   "outputs": [
    {
     "data": {
      "image/png": "[encoded data removed]",
      "text/plain": [
       "<Figure size 720x432 with 4 Axes>"
      ]
     },
     "metadata": {
      "needs_background": "light"
     },
     "output_type": "display_data"
    }
   ],
   "source": [
    "# for numerical variable let's plot the Boxplot to get  the distribution of data\n",
    "fig, axes = plt.subplots(nrows=2, ncols=2, figsize=(10, 6))\n",
    "sns.boxplot(df1['Delivery_person_Age'], data=df1, ax=axes[0, 0])\n",
    "sns.boxplot(df1['Delivery_person_Ratings'], data=df1, ax=axes[0, 1])\n",
    "sns.boxplot(df1['Time_taken(min)'], data=df1, ax=axes[1, 0])\n",
    "sns.boxplot(df1['Distance(km)'], data=df1, ax=axes[1, 1])\n",
    "\n",
    "axes[0, 0].set_title('Delivery_person_Age')\n",
    "axes[0, 1].set_title('Delivery_person_Ratings')\n",
    "axes[1, 0].set_title('Time_taken(min)')\n",
    "axes[1, 1].set_title('Distance(km)')\n",
    "\n",
    "plt.subplots_adjust(hspace=0.5)\n",
    "plt.show()"
   ]
  },
  {
   "cell_type": "markdown",
   "metadata": {},
   "source": [
    "Removing the outliers from Age and rating variable that are far away from our normal data"
   ]
  },
  {
   "cell_type": "code",
   "execution_count": 26,
   "metadata": {},
   "outputs": [],
   "source": [
    "outliers1 = df1[df1['Delivery_person_Age'] > 40]\n",
    "index_to_drop1 = outliers1.index\n",
    "df1.drop(index_to_drop1, inplace=True)\n",
    "\n",
    "outliers2 = df1[df1['Delivery_person_Ratings'] < 4.2]\n",
    "index_to_drop2 = outliers2.index\n",
    "df1.drop(index_to_drop2, inplace=True)\n",
    "\n",
    "outliers3 = df1[df1['Time_taken(min)'] > 48]\n",
    "index_to_drop3 = outliers3.index\n",
    "df1.drop(index_to_drop3, inplace=True)"
   ]
  },
  {
   "cell_type": "code",
   "execution_count": 27,
   "metadata": {},
   "outputs": [
    {
     "data": {
      "image/png": "[encoded data removed]",
      "text/plain": [
       "<Figure size 720x432 with 4 Axes>"
      ]
     },
     "metadata": {
      "needs_background": "light"
     },
     "output_type": "display_data"
    }
   ],
   "source": [
    "# for categorical variables let's plot a Barplot to get the distribution of data \n",
    "fig, axes = plt.subplots(nrows=2, ncols=2, figsize=(10, 6))\n",
    "sns.countplot(x=df1['Weatherconditions'], data=df1, ax=axes[0, 0]) \n",
    "sns.countplot(x=df1['Road_traffic_density'], data=df1, ax=axes[0, 1])\n",
    "sns.countplot(x=df1['Type_of_order'], data=df1, ax=axes[1, 0])\n",
    "sns.countplot(x=df1['multiple_deliveries'], data=df1, ax=axes[1, 1])\n",
    "axes[0, 0].set_xticklabels(axes[0, 0].get_xticklabels(), rotation=20)\n",
    "axes[0, 0].set_title('Weatherconditions')\n",
    "axes[0, 1].set_title('Road_traffic_density')\n",
    "axes[1, 0].set_title('Type_of_order')\n",
    "axes[1, 1].set_title('multiple_deliveries')\n",
    "\n",
    "plt.subplots_adjust(wspace=0.3, hspace=0.6)\n",
    "plt.show()"
   ]
  },
  {
   "cell_type": "markdown",
   "metadata": {},
   "source": [
    "- From above it is clear that our two categorical columns, traffic density and multiple deliveries are totally imbalance\n",
    "- Hence we will keep it in mind while splitting the data to go with stratified sampling so as to avoid effect of imbalance data"
   ]
  },
  {
   "cell_type": "markdown",
   "metadata": {},
   "source": [
    "- Bivariant Analysis : as target variable is Numerical\n",
    " - for numerical vs categorical variable let's plot the Boxplot to see how features are influencing target\n",
    " - for numerical vs numerical variable let's plot a Scatterplot to see how features are influencing target"
   ]
  },
  {
   "cell_type": "code",
   "execution_count": 28,
   "metadata": {},
   "outputs": [
    {
     "data": {
      "image/png": "[encoded data removed]",
      "text/plain": [
       "<Figure size 720x432 with 4 Axes>"
      ]
     },
     "metadata": {
      "needs_background": "light"
     },
     "output_type": "display_data"
    }
   ],
   "source": [
    "# let's visualize how categorical variables are influencing our target variable by using Boxplot\n",
    "fig, axes = plt.subplots(nrows=2, ncols=2, figsize=(10, 6))\n",
    "sns.boxplot(x=df1['Weatherconditions'], y=df1['Time_taken(min)'], data=df1, ax=axes[0, 0])\n",
    "sns.boxplot(x=df1['Road_traffic_density'], y=df1['Time_taken(min)'], data=df1, ax=axes[0, 1])\n",
    "sns.boxplot(x=df1['Type_of_order'], y=df1['Time_taken(min)'], data=df1, ax=axes[1, 0])\n",
    "sns.boxplot(x=df1['multiple_deliveries'], y=df1['Time_taken(min)'], data=df1, ax=axes[1, 1])\n",
    "axes[0, 0].set_xticklabels(axes[0, 0].get_xticklabels(), rotation=15)\n",
    "axes[0, 0].set_title('Weatherconditions vs Time_taken(min)')\n",
    "axes[0, 1].set_title('Road_traffic_density vs Time_taken(min)')\n",
    "axes[1, 0].set_title('Type_of_order vs Time_taken(min)')\n",
    "axes[1, 1].set_title('multiple_deliveries vs Time_taken(min)')\n",
    "\n",
    "plt.subplots_adjust(hspace=0.5)\n",
    "plt.show()"
   ]
  },
  {
   "cell_type": "code",
   "execution_count": 29,
   "metadata": {},
   "outputs": [
    {
     "data": {
      "image/png": "[encoded data removed]",
      "text/plain": [
       "<Figure size 720x432 with 3 Axes>"
      ]
     },
     "metadata": {
      "needs_background": "light"
     },
     "output_type": "display_data"
    }
   ],
   "source": [
    "# let's visualize how numerical variables are influencing our target variable using scatterplot\n",
    "fig, axes = plt.subplots(nrows=2, ncols=2, figsize=(10,6))\n",
    "fig.delaxes(axes[1,1])\n",
    "sns.scatterplot(x=df1['Delivery_person_Age'], y=df1['Time_taken(min)'], data=df1, ax=axes[0,0], legend=False)\n",
    "sns.scatterplot(x=df1['Delivery_person_Ratings'], y=df1['Time_taken(min)'], data=df1, ax=axes[0,1])\n",
    "sns.scatterplot(x=df1['Distance(km)'], y=df1['Time_taken(min)'], data=df1, ax=axes[1,0])\n",
    "\n",
    "axes[0, 0].set_title('Delivery_person_Age vs Time_taken(min)')\n",
    "axes[0, 1].set_title('Delivery_person_Ratings vs Time_taken(min)')\n",
    "axes[1, 0].set_title('Distance(km) vs Time_taken(min)')\n",
    "\n",
    "plt.subplots_adjust(wspace=0.3, hspace=0.4)\n",
    "plt.show()"
   ]
  },
  {
   "cell_type": "markdown",
   "metadata": {},
   "source": [
    "- From above scatterplot it is hard tho find any relationship because of very dense data\n",
    "- So we will check the correlation between all the numerical columns by using correlation function"
   ]
  },
  {
   "cell_type": "markdown",
   "metadata": {},
   "source": [
    "# Data pre-processing"
   ]
  },
  {
   "cell_type": "code",
   "execution_count": 30,
   "metadata": {},
   "outputs": [],
   "source": [
    "# before using the data for ML algorithms, firstly we have to convert categorical variable to numerical\n",
    "# just for safer side before doing further opereations let's create copy of data and proceed with it\n",
    "df2 = df1.copy()"
   ]
  },
  {
   "cell_type": "code",
   "execution_count": 31,
   "metadata": {},
   "outputs": [],
   "source": [
    "# using mapping method to encoding categorical variables\n",
    "mapping1 = {'Sunny':0, 'Stormy':1, 'Sandstorms':2, 'Cloudy':3, 'Fog':4, 'Windy':5}\n",
    "df2['Weatherconditions'] = df2['Weatherconditions'].map(mapping1)\n",
    "\n",
    "mapping2 = {'High ':3, 'Jam ':1, 'Low ':0, 'Medium ':2}\n",
    "df2['Road_traffic_density'] = df2['Road_traffic_density'].map(mapping2)\n",
    "\n",
    "mapping3 = {'Snack ':0, 'Drinks ':1, 'Buffet ':2, 'Meal ':3}\n",
    "df2['Type_of_order'] = df2['Type_of_order'].map(mapping3)\n",
    "\n",
    "mapping4 = {'0':0, '1':1, '3':3, '2':2}\n",
    "df2['multiple_deliveries'] = df2['multiple_deliveries'].map(mapping4)"
   ]
  },
  {
   "cell_type": "code",
   "execution_count": 32,
   "metadata": {},
   "outputs": [
    {
     "data": {
      "text/html": [
       "<div>\n",
       "<style scoped>\n",
       "    .dataframe tbody tr th:only-of-type {\n",
       "        vertical-align: middle;\n",
       "    }\n",
       "\n",
       "    .dataframe tbody tr th {\n",
       "        vertical-align: top;\n",
       "    }\n",
       "\n",
       "    .dataframe thead th {\n",
       "        text-align: right;\n",
       "    }\n",
       "</style>\n",
       "<table border=\"1\" class=\"dataframe\">\n",
       "  <thead>\n",
       "    <tr style=\"text-align: right;\">\n",
       "      <th></th>\n",
       "      <th>Delivery_person_Age</th>\n",
       "      <th>Delivery_person_Ratings</th>\n",
       "      <th>Weatherconditions</th>\n",
       "      <th>Road_traffic_density</th>\n",
       "      <th>Type_of_order</th>\n",
       "      <th>multiple_deliveries</th>\n",
       "      <th>Time_taken(min)</th>\n",
       "      <th>Distance(km)</th>\n",
       "    </tr>\n",
       "  </thead>\n",
       "  <tbody>\n",
       "    <tr>\n",
       "      <th>36586</th>\n",
       "      <td>20</td>\n",
       "      <td>4.6</td>\n",
       "      <td>0</td>\n",
       "      <td>1</td>\n",
       "      <td>1</td>\n",
       "      <td>0</td>\n",
       "      <td>19</td>\n",
       "      <td>12.54</td>\n",
       "    </tr>\n",
       "    <tr>\n",
       "      <th>38856</th>\n",
       "      <td>39</td>\n",
       "      <td>4.6</td>\n",
       "      <td>1</td>\n",
       "      <td>1</td>\n",
       "      <td>3</td>\n",
       "      <td>1</td>\n",
       "      <td>25</td>\n",
       "      <td>6.74</td>\n",
       "    </tr>\n",
       "    <tr>\n",
       "      <th>4307</th>\n",
       "      <td>28</td>\n",
       "      <td>4.9</td>\n",
       "      <td>0</td>\n",
       "      <td>0</td>\n",
       "      <td>1</td>\n",
       "      <td>1</td>\n",
       "      <td>24</td>\n",
       "      <td>6.77</td>\n",
       "    </tr>\n",
       "    <tr>\n",
       "      <th>6647</th>\n",
       "      <td>38</td>\n",
       "      <td>4.2</td>\n",
       "      <td>5</td>\n",
       "      <td>0</td>\n",
       "      <td>2</td>\n",
       "      <td>1</td>\n",
       "      <td>33</td>\n",
       "      <td>2.28</td>\n",
       "    </tr>\n",
       "    <tr>\n",
       "      <th>27550</th>\n",
       "      <td>26</td>\n",
       "      <td>4.5</td>\n",
       "      <td>1</td>\n",
       "      <td>1</td>\n",
       "      <td>1</td>\n",
       "      <td>1</td>\n",
       "      <td>15</td>\n",
       "      <td>13.59</td>\n",
       "    </tr>\n",
       "  </tbody>\n",
       "</table>\n",
       "</div>"
      ],
      "text/plain": [
       "       Delivery_person_Age  Delivery_person_Ratings  Weatherconditions  \\\n",
       "36586                   20                      4.6                  0   \n",
       "38856                   39                      4.6                  1   \n",
       "4307                    28                      4.9                  0   \n",
       "6647                    38                      4.2                  5   \n",
       "27550                   26                      4.5                  1   \n",
       "\n",
       "       Road_traffic_density  Type_of_order  multiple_deliveries  \\\n",
       "36586                     1              1                    0   \n",
       "38856                     1              3                    1   \n",
       "4307                      0              1                    1   \n",
       "6647                      0              2                    1   \n",
       "27550                     1              1                    1   \n",
       "\n",
       "       Time_taken(min)  Distance(km)  \n",
       "36586               19         12.54  \n",
       "38856               25          6.74  \n",
       "4307                24          6.77  \n",
       "6647                33          2.28  \n",
       "27550               15         13.59  "
      ]
     },
     "execution_count": 32,
     "metadata": {},
     "output_type": "execute_result"
    }
   ],
   "source": [
    "# have a look at the final dataset once\n",
    "df2.sample(5)"
   ]
  },
  {
   "cell_type": "markdown",
   "metadata": {},
   "source": [
    "# Splitting the data"
   ]
  },
  {
   "cell_type": "markdown",
   "metadata": {},
   "source": [
    "- we will go for data splitting byusing train test split function.\n",
    "- keep in mind we have to use 'Stratify' sampling while splitting"
   ]
  },
  {
   "cell_type": "code",
   "execution_count": 33,
   "metadata": {},
   "outputs": [],
   "source": [
    "# import necessary tools, algorithms, and metrics from sklearn to create the model\n",
    "from sklearn.model_selection import train_test_split\n",
    "from sklearn.metrics import mean_squared_error, r2_score"
   ]
  },
  {
   "cell_type": "code",
   "execution_count": 37,
   "metadata": {},
   "outputs": [],
   "source": [
    "# let's first define features and target\n",
    "X = df2.drop(columns=['Time_taken(min)'])\n",
    "y = df2['Time_taken(min)']\n",
    "\n",
    "# divide the dataset into train and test data\n",
    "X_train, X_test, y_train, y_test = train_test_split(X, y, test_size=0.2, random_state=101, stratify=y)"
   ]
  },
  {
   "cell_type": "markdown",
   "metadata": {},
   "source": [
    "# Selecting and training the model"
   ]
  },
  {
   "cell_type": "code",
   "execution_count": 34,
   "metadata": {},
   "outputs": [],
   "source": [
    "# 4 most suitable Algorithms for predicting time will be:\n",
    "    # 1) LinearRegression\n",
    "    # 2) DecisionTrees\n",
    "    # 3) RandomForest\n",
    "    # 4) GradientBoosting\n",
    "    # 5) Support Vector Machine\n",
    "    \n",
    "from sklearn.linear_model import LinearRegression\n",
    "from sklearn.tree import DecisionTreeRegressor\n",
    "from sklearn.ensemble import RandomForestRegressor\n",
    "from sklearn.ensemble import GradientBoostingRegressor\n",
    "from sklearn.svm import SVR"
   ]
  },
  {
   "cell_type": "code",
   "execution_count": 38,
   "metadata": {},
   "outputs": [
    {
     "name": "stdout",
     "output_type": "stream",
     "text": [
      "Linear Regression metrics:\n",
      "Mean squared error: 48.71466604374159\n",
      "R-squared score: 0.3534107769857673\n",
      "\n",
      "Decision Tree Regression metrics:\n",
      "Mean squared error: 46.834662688748175\n",
      "R-squared score: 0.37836404070059704\n",
      "\n",
      "Random Forest Regression metrics:\n",
      "Mean squared error: 26.180415021915167\n",
      "R-squared score: 0.6525076412920412\n",
      "\n",
      "Gradient Boosting Regression metrics:\n",
      "Mean squared error: 25.866217555640205\n",
      "R-squared score: 0.6566779807830141\n",
      "\n",
      "Support Vector Regression metrics:\n",
      "Mean squared error: 49.11000901443214\n",
      "R-squared score: 0.34816339411315533\n"
     ]
    }
   ],
   "source": [
    "# Linear Regression\n",
    "lr_model = LinearRegression()\n",
    "lr_model.fit(X_train, y_train)\n",
    "lr_pred = lr_model.predict(X_test)\n",
    "\n",
    "# Decision Tree Regression\n",
    "dt_model = DecisionTreeRegressor()\n",
    "dt_model.fit(X_train, y_train)\n",
    "dt_pred = dt_model.predict(X_test)\n",
    "\n",
    "# Random Forest Regression\n",
    "rf_model = RandomForestRegressor(n_estimators=100, random_state=112)\n",
    "rf_model.fit(X_train, y_train)\n",
    "rf_pred = rf_model.predict(X_test)\n",
    "\n",
    "# Gradient Boosting Regression\n",
    "gb_model = GradientBoostingRegressor(n_estimators=100, random_state=117)\n",
    "gb_model.fit(X_train, y_train)\n",
    "gb_pred = gb_model.predict(X_test)\n",
    "\n",
    "# Support Vector Regression\n",
    "sv_model = SVR(kernel='linear', C=1.0, epsilon=0.2)\n",
    "sv_model.fit(X_train, y_train)\n",
    "sv_pred = sv_model.predict(X_test)\n",
    "\n",
    "# Evaluate the models\n",
    "lr_mse = mean_squared_error(y_test, lr_pred)\n",
    "lr_r2 = r2_score(y_test, lr_pred)\n",
    "\n",
    "dt_mse = mean_squared_error(y_test, dt_pred)\n",
    "dt_r2 = r2_score(y_test, dt_pred)\n",
    "\n",
    "rf_mse = mean_squared_error(y_test, rf_pred)\n",
    "rf_r2 = r2_score(y_test, rf_pred)\n",
    "\n",
    "gb_mse = mean_squared_error(y_test, gb_pred)\n",
    "gb_r2 = r2_score(y_test, gb_pred)\n",
    "\n",
    "sv_mse = mean_squared_error(y_test, sv_pred)\n",
    "sv_r2 = r2_score(y_test, sv_pred)\n",
    "\n",
    "print(\"Linear Regression metrics:\")\n",
    "print(\"Mean squared error:\", lr_mse)\n",
    "print(\"R-squared score:\", lr_r2)\n",
    "print()\n",
    "\n",
    "print(\"Decision Tree Regression metrics:\")\n",
    "print(\"Mean squared error:\", dt_mse)\n",
    "print(\"R-squared score:\", dt_r2)\n",
    "print()\n",
    "\n",
    "print(\"Random Forest Regression metrics:\")\n",
    "print(\"Mean squared error:\", rf_mse)\n",
    "print(\"R-squared score:\", rf_r2)\n",
    "print()\n",
    "\n",
    "print(\"Gradient Boosting Regression metrics:\")\n",
    "print(\"Mean squared error:\", gb_mse)\n",
    "print(\"R-squared score:\", gb_r2)\n",
    "print()\n",
    "\n",
    "print(\"Support Vector Regression metrics:\")\n",
    "print(\"Mean squared error:\", sv_mse)\n",
    "print(\"R-squared score:\", sv_r2)"
   ]
  },
  {
   "cell_type": "code",
   "execution_count": 40,
   "metadata": {},
   "outputs": [
    {
     "data": {
      "text/html": [
       "<div>\n",
       "<style scoped>\n",
       "    .dataframe tbody tr th:only-of-type {\n",
       "        vertical-align: middle;\n",
       "    }\n",
       "\n",
       "    .dataframe tbody tr th {\n",
       "        vertical-align: top;\n",
       "    }\n",
       "\n",
       "    .dataframe thead th {\n",
       "        text-align: right;\n",
       "    }\n",
       "</style>\n",
       "<table border=\"1\" class=\"dataframe\">\n",
       "  <thead>\n",
       "    <tr style=\"text-align: right;\">\n",
       "      <th></th>\n",
       "      <th>MSE</th>\n",
       "      <th>R-squared</th>\n",
       "    </tr>\n",
       "  </thead>\n",
       "  <tbody>\n",
       "    <tr>\n",
       "      <th>Gradient Boosting Regression</th>\n",
       "      <td>25.866218</td>\n",
       "      <td>0.656678</td>\n",
       "    </tr>\n",
       "    <tr>\n",
       "      <th>Random Forest Regression</th>\n",
       "      <td>26.180415</td>\n",
       "      <td>0.652508</td>\n",
       "    </tr>\n",
       "    <tr>\n",
       "      <th>Decision Tree Regression</th>\n",
       "      <td>46.834663</td>\n",
       "      <td>0.378364</td>\n",
       "    </tr>\n",
       "    <tr>\n",
       "      <th>Linear Regression</th>\n",
       "      <td>48.714666</td>\n",
       "      <td>0.353411</td>\n",
       "    </tr>\n",
       "    <tr>\n",
       "      <th>Support Vector Regression metrics</th>\n",
       "      <td>49.110009</td>\n",
       "      <td>0.348163</td>\n",
       "    </tr>\n",
       "  </tbody>\n",
       "</table>\n",
       "</div>"
      ],
      "text/plain": [
       "                                         MSE  R-squared\n",
       "Gradient Boosting Regression       25.866218   0.656678\n",
       "Random Forest Regression           26.180415   0.652508\n",
       "Decision Tree Regression           46.834663   0.378364\n",
       "Linear Regression                  48.714666   0.353411\n",
       "Support Vector Regression metrics  49.110009   0.348163"
      ]
     },
     "execution_count": 40,
     "metadata": {},
     "output_type": "execute_result"
    }
   ],
   "source": [
    "# create a dictionary to store the evaluated metrics for each model\n",
    "metrics = {\n",
    "    'Random Forest Regression': [rf_mse, rf_r2],\n",
    "    'Gradient Boosting Regression': [gb_mse, gb_r2],\n",
    "    'Linear Regression': [lr_mse, lr_r2],\n",
    "    'Decision Tree Regression': [dt_mse, dt_r2],\n",
    "    'Support Vector Regression metrics': [sv_mse, sv_r2]\n",
    "}\n",
    "\n",
    "# create a pandas DataFrame from the metrics dictionary\n",
    "df3 = pd.DataFrame.from_dict(metrics, orient='index', columns=['MSE', 'R-squared'])\n",
    "df3.sort_values(by=['R-squared'],ascending=False)"
   ]
  },
  {
   "cell_type": "markdown",
   "metadata": {},
   "source": [
    "- From above sorting it is clear for us to select the 'GradientBoostingRegressor' for our model\n",
    "- Now after selection to get the best of our model, we will do a cross validation to get the best hyper parameters for our model"
   ]
  },
  {
   "cell_type": "code",
   "execution_count": 41,
   "metadata": {},
   "outputs": [
    {
     "name": "stdout",
     "output_type": "stream",
     "text": [
      "Best hyperparameters: {'learning_rate': 0.1, 'max_depth': 6, 'n_estimators': 100}\n",
      "Best score: 0.6889758361810887\n",
      "Mean squared error: 22.988660099778055\n",
      "R-squared score: 0.6948717690334366\n",
      "Elapsed time: 905.9117901325226 seconds\n"
     ]
    }
   ],
   "source": [
    "# from above evaluation it's very clear that top model for our dataset is Gradient Boosting Regression\n",
    "# let's try to tune parameters of gb_model and see the variations\n",
    "from sklearn.model_selection import GridSearchCV\n",
    "import time\n",
    "\n",
    "start_time = time.time()\n",
    "# Define hyperparameters range to tune\n",
    "param_grid = {\n",
    "    'n_estimators': [100, 200, 500],\n",
    "    'max_depth': [2, 4, 6],\n",
    "    'learning_rate': [0.1, 0.01, 0.001]\n",
    "}\n",
    "\n",
    "# Use GridSearchCV to find the best hyperparameters\n",
    "gb_reg = GradientBoostingRegressor(random_state=42)\n",
    "gb_reg_cv = GridSearchCV(gb_reg, param_grid, cv=5)\n",
    "gb_reg_cv.fit(X_train, y_train)\n",
    "y_pred = gb_reg_cv.predict(X_test)\n",
    "\n",
    "# Print the best hyperparameters and corresponding score\n",
    "print('Best hyperparameters:', gb_reg_cv.best_params_)\n",
    "print('Best score:', gb_reg_cv.best_score_)\n",
    "\n",
    "# Calculate the mean squared error\n",
    "mse = mean_squared_error(y_test, y_pred)\n",
    "r2 = r2_score(y_test, y_pred)\n",
    "print('Mean squared error:', mse)\n",
    "print(\"R-squared score:\", r2)\n",
    "\n",
    "end_time = time.time()\n",
    "elapsed_time = end_time - start_time\n",
    "print('Elapsed time:', elapsed_time, 'seconds')"
   ]
  },
  {
   "cell_type": "markdown",
   "metadata": {},
   "source": [
    "### Now we will just insert this hyper-parameters in our model and create a final model"
   ]
  },
  {
   "cell_type": "code",
   "execution_count": 42,
   "metadata": {},
   "outputs": [
    {
     "name": "stdout",
     "output_type": "stream",
     "text": [
      "Gradient Boosting Regression metrics:\n",
      "Mean squared error: 22.996800233341972\n",
      "R-squared score: 0.6947637251307729\n"
     ]
    }
   ],
   "source": [
    "# Final model with best parameters setting\n",
    "gb_fmodel = GradientBoostingRegressor(max_depth=6, learning_rate=0.1,\n",
    "                                      n_estimators=100, random_state=96)\n",
    "gb_fmodel.fit(X_train, y_train)\n",
    "gb_fpred = gb_fmodel.predict(X_test)\n",
    "\n",
    "gb_fmse = mean_squared_error(y_test, gb_fpred)\n",
    "gb_fr2 = r2_score(y_test, gb_fpred)\n",
    "\n",
    "print(\"Gradient Boosting Regression metrics:\")\n",
    "print(\"Mean squared error:\", gb_fmse)\n",
    "print(\"R-squared score:\", gb_fr2)"
   ]
  },
  {
   "cell_type": "code",
   "execution_count": null,
   "metadata": {},
   "outputs": [],
   "source": []
  },
  {
   "cell_type": "markdown",
   "metadata": {},
   "source": [
    "### Input the values in proper order as below and refer the codes for categories-\n",
    "- 'Delivery_person_Age', 'Delivery_person_Ratings', 'Weatherconditions', 'Road_traffic_density', - 'Type_of_order', 'multiple_deliveries', 'Distance'\n",
    "- 'Weatherconditions' = {'Sunny':0, 'Stormy':1, 'Sandstorms':2, 'Cloudy':3, 'Fog':4, 'Windy':5}\n",
    "- 'Road_traffic_density' = {'High ':3, 'Jam ':1, 'Low ':0, 'Medium ':2}\n",
    "- 'Type_of_order' = {'Snack ':0, 'Drinks ':1, 'Buffet ':2, 'Meal ':3}\n",
    "- 'multiple_deliveries' = {'0':0, '1':1, '3':3, '2':2}"
   ]
  },
  {
   "cell_type": "code",
   "execution_count": 43,
   "metadata": {},
   "outputs": [],
   "source": [
    "# Creating a function for Prediction\n",
    "def predict_time(Delivery_person_Age, Delivery_person_Ratings, Weatherconditions,\n",
    "       Road_traffic_density, Type_of_order, multiple_deliveries,\n",
    "       Distance):\n",
    "                   input_array = np.array([[Delivery_person_Age, Delivery_person_Ratings, Weatherconditions,\n",
    "                             Road_traffic_density, Type_of_order, multiple_deliveries, Distance]])\n",
    "                   prediction = gb_fmodel.predict(input_array)\n",
    "                   print('Item will be delivered in', round(prediction[0],2), 'mins')"
   ]
  },
  {
   "cell_type": "markdown",
   "metadata": {},
   "source": [
    "### Testing our model by giving required inputs"
   ]
  },
  {
   "cell_type": "code",
   "execution_count": 44,
   "metadata": {},
   "outputs": [
    {
     "name": "stdout",
     "output_type": "stream",
     "text": [
      "Item will be delivered in 23.22 mins\n"
     ]
    }
   ],
   "source": [
    "predict_time(24, 4, 1, 0, 1, 1, 3)"
   ]
  },
  {
   "cell_type": "code",
   "execution_count": 45,
   "metadata": {},
   "outputs": [
    {
     "name": "stdout",
     "output_type": "stream",
     "text": [
      "Item will be delivered in 24.22 mins\n"
     ]
    }
   ],
   "source": [
    "predict_time(25, 5.6, 4, 3, 3, 0, 5.6)"
   ]
  },
  {
   "cell_type": "code",
   "execution_count": 46,
   "metadata": {},
   "outputs": [
    {
     "name": "stdout",
     "output_type": "stream",
     "text": [
      "Item will be delivered in 41.81 mins\n"
     ]
    }
   ],
   "source": [
    "predict_time(48, 3.8, 0, 0, 0, 3, 1.2)"
   ]
  },
  {
   "cell_type": "code",
   "execution_count": 47,
   "metadata": {},
   "outputs": [
    {
     "data": {
      "text/plain": [
       "['model.pkl']"
      ]
     },
     "execution_count": 47,
     "metadata": {},
     "output_type": "execute_result"
    }
   ],
   "source": [
    "# saving model to deploy\n",
    "import joblib\n",
    "joblib.dump(gb_fmodel, 'model.pkl')"
   ]
  },
  {
   "cell_type": "markdown",
   "metadata": {},
   "source": [
    "# Conclution"
   ]
  },
  {
   "cell_type": "markdown",
   "metadata": {},
   "source": [
    "Model is ready to depoly with a accuracy rate of 70% which is good for the selected data set. "
   ]
  },
  {
   "cell_type": "code",
   "execution_count": null,
   "metadata": {},
   "outputs": [],
   "source": []
  }
 ],
 "metadata": {
  "kernelspec": {
   "display_name": "Python 3",
   "language": "python",
   "name": "python3"
  },
  "language_info": {
   "codemirror_mode": {
    "name": "ipython",
    "version": 3
   },
   "file_extension": ".py",
   "mimetype": "text/x-python",
   "name": "python",
   "nbconvert_exporter": "python",
   "pygments_lexer": "ipython3",
   "version": "3.8.5"
  }
 },
 "nbformat": 4,
 "nbformat_minor": 4
}
